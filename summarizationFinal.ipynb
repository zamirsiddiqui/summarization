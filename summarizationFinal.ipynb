{
  "nbformat": 4,
  "nbformat_minor": 0,
  "metadata": {
    "colab": {
      "name": "summarization.ipynb",
      "provenance": [],
      "collapsed_sections": [],
      "include_colab_link": true
    },
    "kernelspec": {
      "name": "python3",
      "display_name": "Python 3"
    }
  },
  "cells": [
    {
      "cell_type": "markdown",
      "metadata": {
        "id": "view-in-github",
        "colab_type": "text"
      },
      "source": [
        "<a href=\"https://colab.research.google.com/github/zamirsiddiqui/summarization/blob/master/summarizationFinal.ipynb\" target=\"_parent\"><img src=\"https://colab.research.google.com/assets/colab-badge.svg\" alt=\"Open In Colab\"/></a>"
      ]
    },
    {
      "cell_type": "code",
      "metadata": {
        "id": "5EeDk7swX-bG",
        "colab_type": "code",
        "colab": {}
      },
      "source": [
        "import pandas as pd\n",
        "from sklearn.model_selection import train_test_split\n",
        "import tensorflow as tf \n",
        "import numpy as np\n",
        "import nltk\n",
        "from nltk.corpus import stopwords #provides list of english stopwords\n",
        "from bs4 import BeautifulSoup\n",
        "import re\n",
        "import httpimport"
      ],
      "execution_count": 0,
      "outputs": []
    },
    {
      "cell_type": "code",
      "metadata": {
        "id": "wJCMxOkVPGFW",
        "colab_type": "code",
        "colab": {}
      },
      "source": [
        "from keras.preprocessing.text import Tokenizer \n",
        "from keras.preprocessing.sequence import pad_sequences\n",
        "from nltk.corpus import stopwords\n",
        "from tensorflow.keras.layers import Input, LSTM, Embedding, Dense, Concatenate, TimeDistributed\n",
        "from tensorflow.keras.models import Model\n",
        "from tensorflow.keras.callbacks import EarlyStopping\n",
        "import warnings\n",
        "pd.set_option(\"display.max_colwidth\", 200)\n",
        "warnings.filterwarnings(\"ignore\")"
      ],
      "execution_count": 0,
      "outputs": []
    },
    {
      "cell_type": "code",
      "metadata": {
        "id": "lp0ODcLpSLW9",
        "colab_type": "code",
        "colab": {}
      },
      "source": [
        "from attention import AttentionLayer"
      ],
      "execution_count": 0,
      "outputs": []
    },
    {
      "cell_type": "code",
      "metadata": {
        "id": "foIiVA8d2olg",
        "colab_type": "code",
        "colab": {
          "base_uri": "https://localhost:8080/",
          "height": 50
        },
        "outputId": "c68b1434-a021-47ae-f9d5-6dd50b38c5a3"
      },
      "source": [
        "nltk.download('stopwords')\n",
        "stop = stopwords.words('english')"
      ],
      "execution_count": 80,
      "outputs": [
        {
          "output_type": "stream",
          "text": [
            "[nltk_data] Downloading package stopwords to /root/nltk_data...\n",
            "[nltk_data]   Package stopwords is already up-to-date!\n"
          ],
          "name": "stdout"
        }
      ]
    },
    {
      "cell_type": "code",
      "metadata": {
        "id": "yDKW0n0PYoXm",
        "colab_type": "code",
        "colab": {}
      },
      "source": [
        "# Read files from github\n",
        "url = 'https://media.githubusercontent.com/media/zamirsiddiqui/summarization/master/train.article.txt'\n",
        "train_article = pd.read_table(url, error_bad_lines=False, header = None)"
      ],
      "execution_count": 0,
      "outputs": []
    },
    {
      "cell_type": "code",
      "metadata": {
        "id": "__Ro3XGcbCWT",
        "colab_type": "code",
        "outputId": "c01b2753-f2f9-4315-c1ef-240b247fae57",
        "colab": {
          "base_uri": "https://localhost:8080/",
          "height": 229
        }
      },
      "source": [
        "pd.set_option('display.max_colwidth', -1)\n",
        "train_article.head()"
      ],
      "execution_count": 82,
      "outputs": [
        {
          "output_type": "execute_result",
          "data": {
            "text/html": [
              "<div>\n",
              "<style scoped>\n",
              "    .dataframe tbody tr th:only-of-type {\n",
              "        vertical-align: middle;\n",
              "    }\n",
              "\n",
              "    .dataframe tbody tr th {\n",
              "        vertical-align: top;\n",
              "    }\n",
              "\n",
              "    .dataframe thead th {\n",
              "        text-align: right;\n",
              "    }\n",
              "</style>\n",
              "<table border=\"1\" class=\"dataframe\">\n",
              "  <thead>\n",
              "    <tr style=\"text-align: right;\">\n",
              "      <th></th>\n",
              "      <th>0</th>\n",
              "    </tr>\n",
              "  </thead>\n",
              "  <tbody>\n",
              "    <tr>\n",
              "      <th>0</th>\n",
              "      <td>australia 's current account deficit shrunk by a record #.## billion dollars -lrb- #.## billion us -rrb- in the june quarter due to soaring commodity prices , figures released monday showed .</td>\n",
              "    </tr>\n",
              "    <tr>\n",
              "      <th>1</th>\n",
              "      <td>at least two people were killed in a suspected bomb attack on a passenger bus in the strife-torn southern philippines on monday , the military said .</td>\n",
              "    </tr>\n",
              "    <tr>\n",
              "      <th>2</th>\n",
              "      <td>australian shares closed down #.# percent monday following a weak lead from the united states and lower commodity prices , dealers said .</td>\n",
              "    </tr>\n",
              "    <tr>\n",
              "      <th>3</th>\n",
              "      <td>south korea 's nuclear envoy kim sook urged north korea monday to restart work to disable its nuclear plants and stop its `` typical '' brinkmanship in negotiations .</td>\n",
              "    </tr>\n",
              "    <tr>\n",
              "      <th>4</th>\n",
              "      <td>south korea on monday announced sweeping tax reforms , including income and corporate tax cuts to boost growth by stimulating sluggish private consumption and business investment .</td>\n",
              "    </tr>\n",
              "  </tbody>\n",
              "</table>\n",
              "</div>"
            ],
            "text/plain": [
              "                                                                                                                                                                                                 0\n",
              "0  australia 's current account deficit shrunk by a record #.## billion dollars -lrb- #.## billion us -rrb- in the june quarter due to soaring commodity prices , figures released monday showed .\n",
              "1  at least two people were killed in a suspected bomb attack on a passenger bus in the strife-torn southern philippines on monday , the military said .                                          \n",
              "2  australian shares closed down #.# percent monday following a weak lead from the united states and lower commodity prices , dealers said .                                                      \n",
              "3  south korea 's nuclear envoy kim sook urged north korea monday to restart work to disable its nuclear plants and stop its `` typical '' brinkmanship in negotiations .                         \n",
              "4  south korea on monday announced sweeping tax reforms , including income and corporate tax cuts to boost growth by stimulating sluggish private consumption and business investment .           "
            ]
          },
          "metadata": {
            "tags": []
          },
          "execution_count": 82
        }
      ]
    },
    {
      "cell_type": "code",
      "metadata": {
        "id": "WBnIhPcpcR05",
        "colab_type": "code",
        "outputId": "a8ddc866-09fc-49ac-af3d-2ed1c7d387dc",
        "colab": {
          "base_uri": "https://localhost:8080/",
          "height": 195
        }
      },
      "source": [
        "url = 'https://media.githubusercontent.com/media/zamirsiddiqui/summarization/master/train.title.txt'\n",
        "train_title = pd.read_table(url, error_bad_lines=False, header = None)\n",
        "#pd.set_option('display.max_colwidth', -1)\n",
        "train_title.head()"
      ],
      "execution_count": 83,
      "outputs": [
        {
          "output_type": "execute_result",
          "data": {
            "text/html": [
              "<div>\n",
              "<style scoped>\n",
              "    .dataframe tbody tr th:only-of-type {\n",
              "        vertical-align: middle;\n",
              "    }\n",
              "\n",
              "    .dataframe tbody tr th {\n",
              "        vertical-align: top;\n",
              "    }\n",
              "\n",
              "    .dataframe thead th {\n",
              "        text-align: right;\n",
              "    }\n",
              "</style>\n",
              "<table border=\"1\" class=\"dataframe\">\n",
              "  <thead>\n",
              "    <tr style=\"text-align: right;\">\n",
              "      <th></th>\n",
              "      <th>0</th>\n",
              "    </tr>\n",
              "  </thead>\n",
              "  <tbody>\n",
              "    <tr>\n",
              "      <th>0</th>\n",
              "      <td>australian current account deficit narrows sharply</td>\n",
              "    </tr>\n",
              "    <tr>\n",
              "      <th>1</th>\n",
              "      <td>at least two dead in southern philippines blast</td>\n",
              "    </tr>\n",
              "    <tr>\n",
              "      <th>2</th>\n",
              "      <td>australian stocks close down #.# percent</td>\n",
              "    </tr>\n",
              "    <tr>\n",
              "      <th>3</th>\n",
              "      <td>envoy urges north korea to restart nuclear disablement</td>\n",
              "    </tr>\n",
              "    <tr>\n",
              "      <th>4</th>\n",
              "      <td>skorea announces tax cuts to stimulate economy</td>\n",
              "    </tr>\n",
              "  </tbody>\n",
              "</table>\n",
              "</div>"
            ],
            "text/plain": [
              "                                                        0\n",
              "0  australian current account deficit narrows sharply    \n",
              "1  at least two dead in southern philippines blast       \n",
              "2  australian stocks close down #.# percent              \n",
              "3  envoy urges north korea to restart nuclear disablement\n",
              "4  skorea announces tax cuts to stimulate economy        "
            ]
          },
          "metadata": {
            "tags": []
          },
          "execution_count": 83
        }
      ]
    },
    {
      "cell_type": "code",
      "metadata": {
        "id": "84T4Bocl1EsN",
        "colab_type": "code",
        "outputId": "48835054-b0bb-4f51-90cd-245430d2f8ee",
        "colab": {
          "base_uri": "https://localhost:8080/",
          "height": 118
        }
      },
      "source": [
        "train_article.info()"
      ],
      "execution_count": 84,
      "outputs": [
        {
          "output_type": "stream",
          "text": [
            "<class 'pandas.core.frame.DataFrame'>\n",
            "RangeIndex: 10000 entries, 0 to 9999\n",
            "Data columns (total 1 columns):\n",
            "0    10000 non-null object\n",
            "dtypes: object(1)\n",
            "memory usage: 78.2+ KB\n"
          ],
          "name": "stdout"
        }
      ]
    },
    {
      "cell_type": "code",
      "metadata": {
        "id": "iS4lCArI1q1v",
        "colab_type": "code",
        "colab": {}
      },
      "source": [
        "contraction_mapping = {\"ain't\": \"is not\", \"aren't\": \"are not\",\"can't\": \"cannot\", \"'cause\": \"because\", \"could've\": \"could have\", \"couldn't\": \"could not\",\n",
        "                           \"didn't\": \"did not\",  \"doesn't\": \"does not\", \"don't\": \"do not\", \"hadn't\": \"had not\", \"hasn't\": \"has not\", \"haven't\": \"have not\",\n",
        "                           \"he'd\": \"he would\",\"he'll\": \"he will\", \"he's\": \"he is\", \"how'd\": \"how did\", \"how'd'y\": \"how do you\", \"how'll\": \"how will\", \"how's\": \"how is\",\n",
        "                           \"I'd\": \"I would\", \"I'd've\": \"I would have\", \"I'll\": \"I will\", \"I'll've\": \"I will have\",\"I'm\": \"I am\", \"I've\": \"I have\", \"i'd\": \"i would\",\n",
        "                           \"i'd've\": \"i would have\", \"i'll\": \"i will\",  \"i'll've\": \"i will have\",\"i'm\": \"i am\", \"i've\": \"i have\", \"isn't\": \"is not\", \"it'd\": \"it would\",\n",
        "                           \"it'd've\": \"it would have\", \"it'll\": \"it will\", \"it'll've\": \"it will have\",\"it's\": \"it is\", \"let's\": \"let us\", \"ma'am\": \"madam\",\n",
        "                           \"mayn't\": \"may not\", \"might've\": \"might have\",\"mightn't\": \"might not\",\"mightn't've\": \"might not have\", \"must've\": \"must have\",\n",
        "                           \"mustn't\": \"must not\", \"mustn't've\": \"must not have\", \"needn't\": \"need not\", \"needn't've\": \"need not have\",\"o'clock\": \"of the clock\",\n",
        "                           \"oughtn't\": \"ought not\", \"oughtn't've\": \"ought not have\", \"shan't\": \"shall not\", \"sha'n't\": \"shall not\", \"shan't've\": \"shall not have\",\n",
        "                           \"she'd\": \"she would\", \"she'd've\": \"she would have\", \"she'll\": \"she will\", \"she'll've\": \"she will have\", \"she's\": \"she is\",\n",
        "                           \"should've\": \"should have\", \"shouldn't\": \"should not\", \"shouldn't've\": \"should not have\", \"so've\": \"so have\",\"so's\": \"so as\",\n",
        "                           \"this's\": \"this is\",\"that'd\": \"that would\", \"that'd've\": \"that would have\", \"that's\": \"that is\", \"there'd\": \"there would\",\n",
        "                           \"there'd've\": \"there would have\", \"there's\": \"there is\", \"here's\": \"here is\",\"they'd\": \"they would\", \"they'd've\": \"they would have\",\n",
        "                           \"they'll\": \"they will\", \"they'll've\": \"they will have\", \"they're\": \"they are\", \"they've\": \"they have\", \"to've\": \"to have\",\n",
        "                           \"wasn't\": \"was not\", \"we'd\": \"we would\", \"we'd've\": \"we would have\", \"we'll\": \"we will\", \"we'll've\": \"we will have\", \"we're\": \"we are\",\n",
        "                           \"we've\": \"we have\", \"weren't\": \"were not\", \"what'll\": \"what will\", \"what'll've\": \"what will have\", \"what're\": \"what are\",\n",
        "                           \"what's\": \"what is\", \"what've\": \"what have\", \"when's\": \"when is\", \"when've\": \"when have\", \"where'd\": \"where did\", \"where's\": \"where is\",\n",
        "                           \"where've\": \"where have\", \"who'll\": \"who will\", \"who'll've\": \"who will have\", \"who's\": \"who is\", \"who've\": \"who have\",\n",
        "                           \"why's\": \"why is\", \"why've\": \"why have\", \"will've\": \"will have\", \"won't\": \"will not\", \"won't've\": \"will not have\",\n",
        "                           \"would've\": \"would have\", \"wouldn't\": \"would not\", \"wouldn't've\": \"would not have\", \"y'all\": \"you all\",\n",
        "                           \"y'all'd\": \"you all would\",\"y'all'd've\": \"you all would have\",\"y'all're\": \"you all are\",\"y'all've\": \"you all have\",\n",
        "                           \"you'd\": \"you would\", \"you'd've\": \"you would have\", \"you'll\": \"you will\", \"you'll've\": \"you will have\",\n",
        "                           \"you're\": \"you are\", \"you've\": \"you have\"}"
      ],
      "execution_count": 0,
      "outputs": []
    },
    {
      "cell_type": "code",
      "metadata": {
        "id": "OwsXF4yU14kB",
        "colab_type": "code",
        "colab": {}
      },
      "source": [
        "def text_cleaner(text,num):\n",
        "    newString = text.lower()\n",
        "    newString = BeautifulSoup(newString, \"lxml\").text\n",
        "    newString = re.sub(r'\\([^)]*\\)', '', newString)\n",
        "    newString = re.sub('\"','', newString)\n",
        "    newString = ' '.join([contraction_mapping[t] if t in contraction_mapping else t for t in newString.split(\" \")])    \n",
        "    newString = re.sub(r\"'s\\b\",\"\",newString)\n",
        "    newString = re.sub(\"[^a-zA-Z]\", \" \", newString) \n",
        "    newString = re.sub('[m]{2,}', 'mm', newString)\n",
        "    if(num==0):\n",
        "        tokens = [w for w in newString.split() if not w in stop]\n",
        "    else:\n",
        "        tokens=newString.split()\n",
        "    long_words=[]\n",
        "    for i in tokens:\n",
        "        if len(i)>1:                                                 #removing short word\n",
        "            long_words.append(i)   \n",
        "    return (\" \".join(long_words)).strip()"
      ],
      "execution_count": 0,
      "outputs": []
    },
    {
      "cell_type": "code",
      "metadata": {
        "id": "QFcYo9JA2M7K",
        "colab_type": "code",
        "colab": {}
      },
      "source": [
        "#call the function\n",
        "cleaned_text = []\n",
        "for t in train_article[0]:\n",
        "    cleaned_text.append(text_cleaner(t,0))"
      ],
      "execution_count": 0,
      "outputs": []
    },
    {
      "cell_type": "code",
      "metadata": {
        "id": "51LR754E3VuY",
        "colab_type": "code",
        "outputId": "721b3b11-d76b-4afb-e7b6-db1ce1333d9a",
        "colab": {
          "base_uri": "https://localhost:8080/",
          "height": 121
        }
      },
      "source": [
        "cleaned_text[:5]"
      ],
      "execution_count": 88,
      "outputs": [
        {
          "output_type": "execute_result",
          "data": {
            "text/plain": [
              "['australia current account deficit shrunk record billion dollars lrb billion us rrb june quarter due soaring commodity prices figures released monday showed',\n",
              " 'least two people killed suspected bomb attack passenger bus strife torn southern philippines monday military said',\n",
              " 'australian shares closed percent monday following weak lead united states lower commodity prices dealers said',\n",
              " 'south korea nuclear envoy kim sook urged north korea monday restart work disable nuclear plants stop typical brinkmanship negotiations',\n",
              " 'south korea monday announced sweeping tax reforms including income corporate tax cuts boost growth stimulating sluggish private consumption business investment']"
            ]
          },
          "metadata": {
            "tags": []
          },
          "execution_count": 88
        }
      ]
    },
    {
      "cell_type": "code",
      "metadata": {
        "id": "8OfAAs9Q479g",
        "colab_type": "code",
        "outputId": "2c901430-25c3-440c-f4c9-811bb9a0f9a6",
        "colab": {
          "base_uri": "https://localhost:8080/",
          "height": 101
        }
      },
      "source": [
        "#call the function\n",
        "cleaned_summary = []\n",
        "for t in train_title[0]:\n",
        "    cleaned_summary.append(text_cleaner(t,1))\n",
        "cleaned_summary[:5]"
      ],
      "execution_count": 89,
      "outputs": [
        {
          "output_type": "execute_result",
          "data": {
            "text/plain": [
              "['australian current account deficit narrows sharply',\n",
              " 'at least two dead in southern philippines blast',\n",
              " 'australian stocks close down percent',\n",
              " 'envoy urges north korea to restart nuclear disablement',\n",
              " 'skorea announces tax cuts to stimulate economy']"
            ]
          },
          "metadata": {
            "tags": []
          },
          "execution_count": 89
        }
      ]
    },
    {
      "cell_type": "code",
      "metadata": {
        "id": "DARZvsb86PK4",
        "colab_type": "code",
        "colab": {}
      },
      "source": [
        "data = pd.DataFrame()\n",
        "data['cleaned_text']=cleaned_text\n",
        "data['cleaned_summary']=cleaned_summary"
      ],
      "execution_count": 0,
      "outputs": []
    },
    {
      "cell_type": "code",
      "metadata": {
        "id": "wN6YtXyB6k2P",
        "colab_type": "code",
        "outputId": "f73a9b4b-91b3-457c-ac69-b259b1a4a39d",
        "colab": {
          "base_uri": "https://localhost:8080/",
          "height": 262
        }
      },
      "source": [
        "data.head()"
      ],
      "execution_count": 91,
      "outputs": [
        {
          "output_type": "execute_result",
          "data": {
            "text/html": [
              "<div>\n",
              "<style scoped>\n",
              "    .dataframe tbody tr th:only-of-type {\n",
              "        vertical-align: middle;\n",
              "    }\n",
              "\n",
              "    .dataframe tbody tr th {\n",
              "        vertical-align: top;\n",
              "    }\n",
              "\n",
              "    .dataframe thead th {\n",
              "        text-align: right;\n",
              "    }\n",
              "</style>\n",
              "<table border=\"1\" class=\"dataframe\">\n",
              "  <thead>\n",
              "    <tr style=\"text-align: right;\">\n",
              "      <th></th>\n",
              "      <th>cleaned_text</th>\n",
              "      <th>cleaned_summary</th>\n",
              "    </tr>\n",
              "  </thead>\n",
              "  <tbody>\n",
              "    <tr>\n",
              "      <th>0</th>\n",
              "      <td>australia current account deficit shrunk record billion dollars lrb billion us rrb june quarter due soaring commodity prices figures released monday showed</td>\n",
              "      <td>australian current account deficit narrows sharply</td>\n",
              "    </tr>\n",
              "    <tr>\n",
              "      <th>1</th>\n",
              "      <td>least two people killed suspected bomb attack passenger bus strife torn southern philippines monday military said</td>\n",
              "      <td>at least two dead in southern philippines blast</td>\n",
              "    </tr>\n",
              "    <tr>\n",
              "      <th>2</th>\n",
              "      <td>australian shares closed percent monday following weak lead united states lower commodity prices dealers said</td>\n",
              "      <td>australian stocks close down percent</td>\n",
              "    </tr>\n",
              "    <tr>\n",
              "      <th>3</th>\n",
              "      <td>south korea nuclear envoy kim sook urged north korea monday restart work disable nuclear plants stop typical brinkmanship negotiations</td>\n",
              "      <td>envoy urges north korea to restart nuclear disablement</td>\n",
              "    </tr>\n",
              "    <tr>\n",
              "      <th>4</th>\n",
              "      <td>south korea monday announced sweeping tax reforms including income corporate tax cuts boost growth stimulating sluggish private consumption business investment</td>\n",
              "      <td>skorea announces tax cuts to stimulate economy</td>\n",
              "    </tr>\n",
              "  </tbody>\n",
              "</table>\n",
              "</div>"
            ],
            "text/plain": [
              "                                                                                                                                                      cleaned_text                                         cleaned_summary\n",
              "0  australia current account deficit shrunk record billion dollars lrb billion us rrb june quarter due soaring commodity prices figures released monday showed      australian current account deficit narrows sharply    \n",
              "1  least two people killed suspected bomb attack passenger bus strife torn southern philippines monday military said                                                at least two dead in southern philippines blast       \n",
              "2  australian shares closed percent monday following weak lead united states lower commodity prices dealers said                                                    australian stocks close down percent                  \n",
              "3  south korea nuclear envoy kim sook urged north korea monday restart work disable nuclear plants stop typical brinkmanship negotiations                           envoy urges north korea to restart nuclear disablement\n",
              "4  south korea monday announced sweeping tax reforms including income corporate tax cuts boost growth stimulating sluggish private consumption business investment  skorea announces tax cuts to stimulate economy        "
            ]
          },
          "metadata": {
            "tags": []
          },
          "execution_count": 91
        }
      ]
    },
    {
      "cell_type": "code",
      "metadata": {
        "id": "Q2QiOIG0NxrE",
        "colab_type": "code",
        "colab": {}
      },
      "source": [
        "data.replace('', np.nan, inplace=True)\n",
        "data.dropna(axis=0,inplace=True)"
      ],
      "execution_count": 0,
      "outputs": []
    },
    {
      "cell_type": "code",
      "metadata": {
        "id": "qCkj0DmyOQZC",
        "colab_type": "code",
        "colab": {}
      },
      "source": [
        "max_text_len=50\n",
        "max_summary_len=12"
      ],
      "execution_count": 0,
      "outputs": []
    },
    {
      "cell_type": "code",
      "metadata": {
        "id": "Sn6M8o_uOXXK",
        "colab_type": "code",
        "colab": {}
      },
      "source": [
        "cleaned_text =np.array(data['cleaned_text'])\n",
        "cleaned_summary=np.array(data['cleaned_summary'])\n",
        "\n",
        "short_text=[]\n",
        "short_summary=[]\n",
        "\n",
        "for i in range(len(cleaned_text)):\n",
        "    if(len(cleaned_summary[i].split())<=max_summary_len and len(cleaned_text[i].split())<=max_text_len):\n",
        "        short_text.append(cleaned_text[i])\n",
        "        short_summary.append(cleaned_summary[i])\n",
        "        \n",
        "df=pd.DataFrame({'text':short_text,'summary':short_summary})"
      ],
      "execution_count": 0,
      "outputs": []
    },
    {
      "cell_type": "code",
      "metadata": {
        "id": "U2GHhF4ZOegz",
        "colab_type": "code",
        "colab": {}
      },
      "source": [
        "df['summary'] = df['summary'].apply(lambda x : 'sostok '+ x + ' eostok')"
      ],
      "execution_count": 0,
      "outputs": []
    },
    {
      "cell_type": "code",
      "metadata": {
        "id": "Qr6Ce6zGOkVj",
        "colab_type": "code",
        "outputId": "9b3eea75-454a-4c2e-8f5e-775a06b86c32",
        "colab": {
          "base_uri": "https://localhost:8080/",
          "height": 279
        }
      },
      "source": [
        "df.head()"
      ],
      "execution_count": 96,
      "outputs": [
        {
          "output_type": "execute_result",
          "data": {
            "text/html": [
              "<div>\n",
              "<style scoped>\n",
              "    .dataframe tbody tr th:only-of-type {\n",
              "        vertical-align: middle;\n",
              "    }\n",
              "\n",
              "    .dataframe tbody tr th {\n",
              "        vertical-align: top;\n",
              "    }\n",
              "\n",
              "    .dataframe thead th {\n",
              "        text-align: right;\n",
              "    }\n",
              "</style>\n",
              "<table border=\"1\" class=\"dataframe\">\n",
              "  <thead>\n",
              "    <tr style=\"text-align: right;\">\n",
              "      <th></th>\n",
              "      <th>text</th>\n",
              "      <th>summary</th>\n",
              "    </tr>\n",
              "  </thead>\n",
              "  <tbody>\n",
              "    <tr>\n",
              "      <th>0</th>\n",
              "      <td>australia current account deficit shrunk record billion dollars lrb billion us rrb june quarter due soaring commodity prices figures released monday showed</td>\n",
              "      <td>sostok australian current account deficit narrows sharply eostok</td>\n",
              "    </tr>\n",
              "    <tr>\n",
              "      <th>1</th>\n",
              "      <td>least two people killed suspected bomb attack passenger bus strife torn southern philippines monday military said</td>\n",
              "      <td>sostok at least two dead in southern philippines blast eostok</td>\n",
              "    </tr>\n",
              "    <tr>\n",
              "      <th>2</th>\n",
              "      <td>australian shares closed percent monday following weak lead united states lower commodity prices dealers said</td>\n",
              "      <td>sostok australian stocks close down percent eostok</td>\n",
              "    </tr>\n",
              "    <tr>\n",
              "      <th>3</th>\n",
              "      <td>south korea nuclear envoy kim sook urged north korea monday restart work disable nuclear plants stop typical brinkmanship negotiations</td>\n",
              "      <td>sostok envoy urges north korea to restart nuclear disablement eostok</td>\n",
              "    </tr>\n",
              "    <tr>\n",
              "      <th>4</th>\n",
              "      <td>south korea monday announced sweeping tax reforms including income corporate tax cuts boost growth stimulating sluggish private consumption business investment</td>\n",
              "      <td>sostok skorea announces tax cuts to stimulate economy eostok</td>\n",
              "    </tr>\n",
              "  </tbody>\n",
              "</table>\n",
              "</div>"
            ],
            "text/plain": [
              "                                                                                                                                                              text                                                               summary\n",
              "0  australia current account deficit shrunk record billion dollars lrb billion us rrb june quarter due soaring commodity prices figures released monday showed      sostok australian current account deficit narrows sharply eostok    \n",
              "1  least two people killed suspected bomb attack passenger bus strife torn southern philippines monday military said                                                sostok at least two dead in southern philippines blast eostok       \n",
              "2  australian shares closed percent monday following weak lead united states lower commodity prices dealers said                                                    sostok australian stocks close down percent eostok                  \n",
              "3  south korea nuclear envoy kim sook urged north korea monday restart work disable nuclear plants stop typical brinkmanship negotiations                           sostok envoy urges north korea to restart nuclear disablement eostok\n",
              "4  south korea monday announced sweeping tax reforms including income corporate tax cuts boost growth stimulating sluggish private consumption business investment  sostok skorea announces tax cuts to stimulate economy eostok        "
            ]
          },
          "metadata": {
            "tags": []
          },
          "execution_count": 96
        }
      ]
    },
    {
      "cell_type": "code",
      "metadata": {
        "id": "hcwUVIo4O4zA",
        "colab_type": "code",
        "colab": {}
      },
      "source": [
        "from sklearn.model_selection import train_test_split\n",
        "x_tr,x_val,y_tr,y_val=train_test_split(np.array(df['text']),np.array(df['summary']),test_size=0.1,random_state=0,shuffle=True)"
      ],
      "execution_count": 0,
      "outputs": []
    },
    {
      "cell_type": "code",
      "metadata": {
        "id": "U_ZZwch5PePY",
        "colab_type": "code",
        "colab": {}
      },
      "source": [
        "from keras.preprocessing.text import Tokenizer \n",
        "from keras.preprocessing.sequence import pad_sequences\n",
        "\n",
        "#prepare a tokenizer for reviews on training data\n",
        "x_tokenizer = Tokenizer() \n",
        "x_tokenizer.fit_on_texts(list(x_tr))"
      ],
      "execution_count": 0,
      "outputs": []
    },
    {
      "cell_type": "code",
      "metadata": {
        "id": "LA7OAK9xPnIu",
        "colab_type": "code",
        "outputId": "f6542a59-e451-448b-ffbb-104a8006bda2",
        "colab": {
          "base_uri": "https://localhost:8080/",
          "height": 50
        }
      },
      "source": [
        "thresh=3\n",
        "\n",
        "cnt=0\n",
        "tot_cnt=0\n",
        "freq=0\n",
        "tot_freq=0\n",
        "\n",
        "for key,value in x_tokenizer.word_counts.items():\n",
        "    tot_cnt=tot_cnt+1\n",
        "    tot_freq=tot_freq+value\n",
        "    if(value<thresh):\n",
        "        cnt=cnt+1\n",
        "        freq=freq+value\n",
        "    \n",
        "print(\"% of rare words in vocabulary:\",(cnt/tot_cnt)*100)\n",
        "print(\"Total Coverage of rare words:\",(freq/tot_freq)*100)"
      ],
      "execution_count": 99,
      "outputs": [
        {
          "output_type": "stream",
          "text": [
            "% of rare words in vocabulary: 53.57066874689739\n",
            "Total Coverage of rare words: 5.693634962532552\n"
          ],
          "name": "stdout"
        }
      ]
    },
    {
      "cell_type": "code",
      "metadata": {
        "id": "QFLhBwoYP_de",
        "colab_type": "code",
        "colab": {}
      },
      "source": [
        "#prepare a tokenizer for reviews on training data\n",
        "x_tokenizer = Tokenizer(num_words=tot_cnt-cnt) \n",
        "x_tokenizer.fit_on_texts(list(x_tr))\n",
        "\n",
        "#convert text sequences into integer sequences\n",
        "x_tr_seq    =   x_tokenizer.texts_to_sequences(x_tr) \n",
        "x_val_seq   =   x_tokenizer.texts_to_sequences(x_val)\n",
        "\n",
        "#padding zero upto maximum length\n",
        "x_tr    =   pad_sequences(x_tr_seq,  maxlen=max_text_len, padding='post')\n",
        "x_val   =   pad_sequences(x_val_seq, maxlen=max_text_len, padding='post')\n",
        "\n",
        "#size of vocabulary ( +1 for padding token)\n",
        "x_voc   =  x_tokenizer.num_words + 1"
      ],
      "execution_count": 0,
      "outputs": []
    },
    {
      "cell_type": "code",
      "metadata": {
        "id": "BMXPnrhsQFP3",
        "colab_type": "code",
        "outputId": "763c5898-11a1-4246-def9-ce2ce731df5c",
        "colab": {
          "base_uri": "https://localhost:8080/",
          "height": 34
        }
      },
      "source": [
        "x_voc"
      ],
      "execution_count": 101,
      "outputs": [
        {
          "output_type": "execute_result",
          "data": {
            "text/plain": [
              "6548"
            ]
          },
          "metadata": {
            "tags": []
          },
          "execution_count": 101
        }
      ]
    },
    {
      "cell_type": "code",
      "metadata": {
        "id": "WWMF5thiQNsj",
        "colab_type": "code",
        "colab": {}
      },
      "source": [
        "#prepare a tokenizer for reviews on training data\n",
        "y_tokenizer = Tokenizer()   \n",
        "y_tokenizer.fit_on_texts(list(y_tr))"
      ],
      "execution_count": 0,
      "outputs": []
    },
    {
      "cell_type": "code",
      "metadata": {
        "id": "7KzTx6tqQWtU",
        "colab_type": "code",
        "colab": {
          "base_uri": "https://localhost:8080/",
          "height": 50
        },
        "outputId": "2cebcf8b-29e1-4eb1-8c3e-7be3d61e3d72"
      },
      "source": [
        "thresh=4\n",
        "\n",
        "cnt=0\n",
        "tot_cnt=0\n",
        "freq=0\n",
        "tot_freq=0\n",
        "\n",
        "for key,value in y_tokenizer.word_counts.items():\n",
        "    tot_cnt=tot_cnt+1\n",
        "    tot_freq=tot_freq+value\n",
        "    if(value<thresh):\n",
        "        cnt=cnt+1\n",
        "        freq=freq+value\n",
        "    \n",
        "print(\"% of rare words in vocabulary:\",(cnt/tot_cnt)*100)\n",
        "print(\"Total Coverage of rare words:\",(freq/tot_freq)*100)"
      ],
      "execution_count": 103,
      "outputs": [
        {
          "output_type": "stream",
          "text": [
            "% of rare words in vocabulary: 66.30543099152965\n",
            "Total Coverage of rare words: 9.500503644012563\n"
          ],
          "name": "stdout"
        }
      ]
    },
    {
      "cell_type": "code",
      "metadata": {
        "id": "rbtwL389RgJ_",
        "colab_type": "code",
        "colab": {}
      },
      "source": [
        "#prepare a tokenizer for reviews on training data\n",
        "y_tokenizer = Tokenizer(num_words=tot_cnt-cnt) \n",
        "y_tokenizer.fit_on_texts(list(y_tr))\n",
        "\n",
        "#convert text sequences into integer sequences\n",
        "y_tr_seq    =   y_tokenizer.texts_to_sequences(y_tr) \n",
        "y_val_seq   =   y_tokenizer.texts_to_sequences(y_val) \n",
        "\n",
        "#padding zero upto maximum length\n",
        "y_tr    =   pad_sequences(y_tr_seq, maxlen=max_summary_len, padding='post')\n",
        "y_val   =   pad_sequences(y_val_seq, maxlen=max_summary_len, padding='post')\n",
        "\n",
        "#size of vocabulary\n",
        "y_voc  =   y_tokenizer.num_words +1"
      ],
      "execution_count": 0,
      "outputs": []
    },
    {
      "cell_type": "code",
      "metadata": {
        "id": "vpQWz92SRoxN",
        "colab_type": "code",
        "colab": {
          "base_uri": "https://localhost:8080/",
          "height": 34
        },
        "outputId": "8e76e48b-0aca-467b-b3e9-85300269d4b4"
      },
      "source": [
        "y_tokenizer.word_counts['sostok'],len(y_tr)"
      ],
      "execution_count": 105,
      "outputs": [
        {
          "output_type": "execute_result",
          "data": {
            "text/plain": [
              "(8981, 8981)"
            ]
          },
          "metadata": {
            "tags": []
          },
          "execution_count": 105
        }
      ]
    },
    {
      "cell_type": "code",
      "metadata": {
        "id": "vqKG6d9qRvun",
        "colab_type": "code",
        "colab": {}
      },
      "source": [
        "ind=[]\n",
        "for i in range(len(y_tr)):\n",
        "    cnt=0\n",
        "    for j in y_tr[i]:\n",
        "        if j!=0:\n",
        "            cnt=cnt+1\n",
        "    if(cnt==2):\n",
        "        ind.append(i)\n",
        "\n",
        "y_tr=np.delete(y_tr,ind, axis=0)\n",
        "x_tr=np.delete(x_tr,ind, axis=0)"
      ],
      "execution_count": 0,
      "outputs": []
    },
    {
      "cell_type": "code",
      "metadata": {
        "id": "OxTtXiPDR2wh",
        "colab_type": "code",
        "colab": {}
      },
      "source": [
        "ind=[]\n",
        "for i in range(len(y_val)):\n",
        "    cnt=0\n",
        "    for j in y_val[i]:\n",
        "        if j!=0:\n",
        "            cnt=cnt+1\n",
        "    if(cnt==2):\n",
        "        ind.append(i)\n",
        "\n",
        "y_val=np.delete(y_val,ind, axis=0)\n",
        "x_val=np.delete(x_val,ind, axis=0)"
      ],
      "execution_count": 0,
      "outputs": []
    },
    {
      "cell_type": "code",
      "metadata": {
        "id": "O-JjlBfBSWVY",
        "colab_type": "code",
        "colab": {
          "base_uri": "https://localhost:8080/",
          "height": 1000
        },
        "outputId": "c684dbcb-ea51-489e-c608-f63b40bb1077"
      },
      "source": [
        "from keras import backend as K \n",
        "K.clear_session()\n",
        "\n",
        "latent_dim = 300\n",
        "embedding_dim=100\n",
        "\n",
        "# Encoder\n",
        "encoder_inputs = Input(shape=(max_text_len,))\n",
        "\n",
        "#embedding layer\n",
        "enc_emb =  Embedding(x_voc, embedding_dim,trainable=True)(encoder_inputs)\n",
        "\n",
        "#encoder lstm 1\n",
        "encoder_lstm1 = LSTM(latent_dim,return_sequences=True,return_state=True,dropout=0.4,recurrent_dropout=0.4)\n",
        "encoder_output1, state_h1, state_c1 = encoder_lstm1(enc_emb)\n",
        "\n",
        "#encoder lstm 2\n",
        "encoder_lstm2 = LSTM(latent_dim,return_sequences=True,return_state=True,dropout=0.4,recurrent_dropout=0.4)\n",
        "encoder_output2, state_h2, state_c2 = encoder_lstm2(encoder_output1)\n",
        "\n",
        "#encoder lstm 3\n",
        "encoder_lstm3=LSTM(latent_dim, return_state=True, return_sequences=True,dropout=0.4,recurrent_dropout=0.4)\n",
        "encoder_outputs, state_h, state_c= encoder_lstm3(encoder_output2)\n",
        "\n",
        "# Set up the decoder, using `encoder_states` as initial state.\n",
        "decoder_inputs = Input(shape=(None,))\n",
        "\n",
        "#embedding layer\n",
        "dec_emb_layer = Embedding(y_voc, embedding_dim,trainable=True)\n",
        "dec_emb = dec_emb_layer(decoder_inputs)\n",
        "\n",
        "decoder_lstm = LSTM(latent_dim, return_sequences=True, return_state=True,dropout=0.4,recurrent_dropout=0.2)\n",
        "decoder_outputs,decoder_fwd_state, decoder_back_state = decoder_lstm(dec_emb,initial_state=[state_h, state_c])\n",
        "\n",
        "# Attention layer\n",
        "attn_layer = AttentionLayer(name='attention_layer')\n",
        "attn_out, attn_states = attn_layer([encoder_outputs, decoder_outputs])\n",
        "\n",
        "# Concat attention input and decoder LSTM output\n",
        "decoder_concat_input = Concatenate(axis=-1, name='concat_layer')([decoder_outputs, attn_out])\n",
        "\n",
        "#dense layer\n",
        "decoder_dense =  TimeDistributed(Dense(y_voc, activation='softmax'))\n",
        "decoder_outputs = decoder_dense(decoder_concat_input)\n",
        "\n",
        "# Define the model \n",
        "model = Model([encoder_inputs, decoder_inputs], decoder_outputs)\n",
        "\n",
        "model.summary()"
      ],
      "execution_count": 109,
      "outputs": [
        {
          "output_type": "stream",
          "text": [
            "WARNING:tensorflow:From /usr/local/lib/python3.6/dist-packages/keras/backend/tensorflow_backend.py:107: The name tf.reset_default_graph is deprecated. Please use tf.compat.v1.reset_default_graph instead.\n",
            "\n"
          ],
          "name": "stdout"
        },
        {
          "output_type": "stream",
          "text": [
            "From /usr/local/lib/python3.6/dist-packages/keras/backend/tensorflow_backend.py:107: The name tf.reset_default_graph is deprecated. Please use tf.compat.v1.reset_default_graph instead.\n",
            "\n"
          ],
          "name": "stderr"
        },
        {
          "output_type": "stream",
          "text": [
            "WARNING:tensorflow:From /usr/local/lib/python3.6/dist-packages/keras/backend/tensorflow_backend.py:111: The name tf.placeholder_with_default is deprecated. Please use tf.compat.v1.placeholder_with_default instead.\n",
            "\n"
          ],
          "name": "stdout"
        },
        {
          "output_type": "stream",
          "text": [
            "From /usr/local/lib/python3.6/dist-packages/keras/backend/tensorflow_backend.py:111: The name tf.placeholder_with_default is deprecated. Please use tf.compat.v1.placeholder_with_default instead.\n",
            "\n"
          ],
          "name": "stderr"
        },
        {
          "output_type": "stream",
          "text": [
            "WARNING:tensorflow:From /usr/local/lib/python3.6/dist-packages/keras/backend/tensorflow_backend.py:66: The name tf.get_default_graph is deprecated. Please use tf.compat.v1.get_default_graph instead.\n",
            "\n"
          ],
          "name": "stdout"
        },
        {
          "output_type": "stream",
          "text": [
            "From /usr/local/lib/python3.6/dist-packages/keras/backend/tensorflow_backend.py:66: The name tf.get_default_graph is deprecated. Please use tf.compat.v1.get_default_graph instead.\n",
            "\n"
          ],
          "name": "stderr"
        },
        {
          "output_type": "stream",
          "text": [
            "WARNING:tensorflow:From /usr/local/lib/python3.6/dist-packages/tensorflow_core/python/keras/initializers.py:119: calling RandomUniform.__init__ (from tensorflow.python.ops.init_ops) with dtype is deprecated and will be removed in a future version.\n",
            "Instructions for updating:\n",
            "Call initializer instance with the dtype argument instead of passing it to the constructor\n"
          ],
          "name": "stdout"
        },
        {
          "output_type": "stream",
          "text": [
            "From /usr/local/lib/python3.6/dist-packages/tensorflow_core/python/keras/initializers.py:119: calling RandomUniform.__init__ (from tensorflow.python.ops.init_ops) with dtype is deprecated and will be removed in a future version.\n",
            "Instructions for updating:\n",
            "Call initializer instance with the dtype argument instead of passing it to the constructor\n"
          ],
          "name": "stderr"
        },
        {
          "output_type": "stream",
          "text": [
            "WARNING:tensorflow:From /usr/local/lib/python3.6/dist-packages/tensorflow_core/python/ops/resource_variable_ops.py:1630: calling BaseResourceVariable.__init__ (from tensorflow.python.ops.resource_variable_ops) with constraint is deprecated and will be removed in a future version.\n",
            "Instructions for updating:\n",
            "If using Keras pass *_constraint arguments to layers.\n"
          ],
          "name": "stdout"
        },
        {
          "output_type": "stream",
          "text": [
            "From /usr/local/lib/python3.6/dist-packages/tensorflow_core/python/ops/resource_variable_ops.py:1630: calling BaseResourceVariable.__init__ (from tensorflow.python.ops.resource_variable_ops) with constraint is deprecated and will be removed in a future version.\n",
            "Instructions for updating:\n",
            "If using Keras pass *_constraint arguments to layers.\n"
          ],
          "name": "stderr"
        },
        {
          "output_type": "stream",
          "text": [
            "Model: \"model\"\n",
            "__________________________________________________________________________________________________\n",
            "Layer (type)                    Output Shape         Param #     Connected to                     \n",
            "==================================================================================================\n",
            "input_1 (InputLayer)            [(None, 50)]         0                                            \n",
            "__________________________________________________________________________________________________\n",
            "embedding (Embedding)           (None, 50, 100)      654800      input_1[0][0]                    \n",
            "__________________________________________________________________________________________________\n",
            "lstm (LSTM)                     [(None, 50, 300), (N 481200      embedding[0][0]                  \n",
            "__________________________________________________________________________________________________\n",
            "input_2 (InputLayer)            [(None, None)]       0                                            \n",
            "__________________________________________________________________________________________________\n",
            "lstm_1 (LSTM)                   [(None, 50, 300), (N 721200      lstm[0][0]                       \n",
            "__________________________________________________________________________________________________\n",
            "embedding_1 (Embedding)         (None, None, 100)    270600      input_2[0][0]                    \n",
            "__________________________________________________________________________________________________\n",
            "lstm_2 (LSTM)                   [(None, 50, 300), (N 721200      lstm_1[0][0]                     \n",
            "__________________________________________________________________________________________________\n",
            "lstm_3 (LSTM)                   [(None, None, 300),  481200      embedding_1[0][0]                \n",
            "                                                                 lstm_2[0][1]                     \n",
            "                                                                 lstm_2[0][2]                     \n",
            "__________________________________________________________________________________________________\n",
            "attention_layer (AttentionLayer ((None, None, 300),  180300      lstm_2[0][0]                     \n",
            "                                                                 lstm_3[0][0]                     \n",
            "__________________________________________________________________________________________________\n",
            "concat_layer (Concatenate)      (None, None, 600)    0           lstm_3[0][0]                     \n",
            "                                                                 attention_layer[0][0]            \n",
            "__________________________________________________________________________________________________\n",
            "time_distributed (TimeDistribut (None, None, 2706)   1626306     concat_layer[0][0]               \n",
            "==================================================================================================\n",
            "Total params: 5,136,806\n",
            "Trainable params: 5,136,806\n",
            "Non-trainable params: 0\n",
            "__________________________________________________________________________________________________\n"
          ],
          "name": "stdout"
        }
      ]
    },
    {
      "cell_type": "code",
      "metadata": {
        "id": "fKCXZhkKSipf",
        "colab_type": "code",
        "colab": {}
      },
      "source": [
        "model.compile(optimizer='rmsprop', loss='sparse_categorical_crossentropy')"
      ],
      "execution_count": 0,
      "outputs": []
    },
    {
      "cell_type": "code",
      "metadata": {
        "id": "oFH2J0fxSnMx",
        "colab_type": "code",
        "colab": {}
      },
      "source": [
        "es = EarlyStopping(monitor='val_loss', mode='min', verbose=1,patience=2)"
      ],
      "execution_count": 0,
      "outputs": []
    },
    {
      "cell_type": "code",
      "metadata": {
        "id": "QrcY3kfNSuu1",
        "colab_type": "code",
        "colab": {
          "base_uri": "https://localhost:8080/",
          "height": 1000
        },
        "outputId": "fe88d13a-166e-418a-d4e4-f98cdf1ce882"
      },
      "source": [
        "history=model.fit([x_tr,y_tr[:,:-1]], y_tr.reshape(y_tr.shape[0],y_tr.shape[1], 1)[:,1:] ,epochs=50,callbacks=[es],batch_size=128, validation_data=([x_val,y_val[:,:-1]], y_val.reshape(y_val.shape[0],y_val.shape[1], 1)[:,1:]))"
      ],
      "execution_count": 113,
      "outputs": [
        {
          "output_type": "stream",
          "text": [
            "WARNING:tensorflow:From /usr/local/lib/python3.6/dist-packages/tensorflow_core/python/ops/math_grad.py:1424: where (from tensorflow.python.ops.array_ops) is deprecated and will be removed in a future version.\n",
            "Instructions for updating:\n",
            "Use tf.where in 2.0, which has the same broadcast rule as np.where\n"
          ],
          "name": "stdout"
        },
        {
          "output_type": "stream",
          "text": [
            "From /usr/local/lib/python3.6/dist-packages/tensorflow_core/python/ops/math_grad.py:1424: where (from tensorflow.python.ops.array_ops) is deprecated and will be removed in a future version.\n",
            "Instructions for updating:\n",
            "Use tf.where in 2.0, which has the same broadcast rule as np.where\n"
          ],
          "name": "stderr"
        },
        {
          "output_type": "stream",
          "text": [
            "Train on 8975 samples, validate on 997 samples\n",
            "Epoch 1/50\n",
            "8975/8975 [==============================] - 323s 36ms/sample - loss: 4.6145 - val_loss: 3.9901\n",
            "Epoch 2/50\n",
            "8975/8975 [==============================] - 316s 35ms/sample - loss: 4.0457 - val_loss: 3.7490\n",
            "Epoch 3/50\n",
            "8975/8975 [==============================] - 348s 39ms/sample - loss: 3.8244 - val_loss: 3.6837\n",
            "Epoch 4/50\n",
            "8975/8975 [==============================] - 324s 36ms/sample - loss: 3.6867 - val_loss: 3.5579\n",
            "Epoch 5/50\n",
            "8975/8975 [==============================] - 353s 39ms/sample - loss: 3.5838 - val_loss: 3.4758\n",
            "Epoch 6/50\n",
            "8975/8975 [==============================] - 317s 35ms/sample - loss: 3.4952 - val_loss: 3.4367\n",
            "Epoch 7/50\n",
            "8975/8975 [==============================] - 319s 36ms/sample - loss: 3.4061 - val_loss: 3.3629\n",
            "Epoch 8/50\n",
            "8975/8975 [==============================] - 324s 36ms/sample - loss: 3.3125 - val_loss: 3.3127\n",
            "Epoch 9/50\n",
            "8975/8975 [==============================] - 321s 36ms/sample - loss: 3.2232 - val_loss: 3.2708\n",
            "Epoch 10/50\n",
            "8975/8975 [==============================] - 326s 36ms/sample - loss: 3.1373 - val_loss: 3.2492\n",
            "Epoch 11/50\n",
            "8975/8975 [==============================] - 320s 36ms/sample - loss: 3.0533 - val_loss: 3.2080\n",
            "Epoch 12/50\n",
            "8975/8975 [==============================] - 319s 36ms/sample - loss: 2.9749 - val_loss: 3.1492\n",
            "Epoch 13/50\n",
            "8975/8975 [==============================] - 322s 36ms/sample - loss: 2.8964 - val_loss: 3.1603\n",
            "Epoch 14/50\n",
            "8975/8975 [==============================] - 320s 36ms/sample - loss: 2.8205 - val_loss: 3.0923\n",
            "Epoch 15/50\n",
            "8975/8975 [==============================] - 322s 36ms/sample - loss: 2.7477 - val_loss: 3.0470\n",
            "Epoch 16/50\n",
            "8975/8975 [==============================] - 328s 37ms/sample - loss: 2.6780 - val_loss: 3.0573\n",
            "Epoch 17/50\n",
            "8975/8975 [==============================] - 336s 37ms/sample - loss: 2.6080 - val_loss: 3.0310\n",
            "Epoch 18/50\n",
            "8975/8975 [==============================] - 326s 36ms/sample - loss: 2.5463 - val_loss: 3.0104\n",
            "Epoch 19/50\n",
            "8975/8975 [==============================] - 320s 36ms/sample - loss: 2.4831 - val_loss: 2.9833\n",
            "Epoch 20/50\n",
            "8975/8975 [==============================] - 328s 37ms/sample - loss: 2.4218 - val_loss: 2.9934\n",
            "Epoch 21/50\n",
            "8975/8975 [==============================] - 351s 39ms/sample - loss: 2.3594 - val_loss: 2.9557\n",
            "Epoch 22/50\n",
            "8975/8975 [==============================] - 341s 38ms/sample - loss: 2.3025 - val_loss: 2.9328\n",
            "Epoch 23/50\n",
            "8975/8975 [==============================] - 334s 37ms/sample - loss: 2.2441 - val_loss: 2.9300\n",
            "Epoch 24/50\n",
            "8975/8975 [==============================] - 341s 38ms/sample - loss: 2.1938 - val_loss: 2.9200\n",
            "Epoch 25/50\n",
            "8975/8975 [==============================] - 346s 39ms/sample - loss: 2.1430 - val_loss: 2.9194\n",
            "Epoch 26/50\n",
            "8975/8975 [==============================] - 327s 36ms/sample - loss: 2.0905 - val_loss: 2.8890\n",
            "Epoch 27/50\n",
            "8975/8975 [==============================] - 323s 36ms/sample - loss: 2.0401 - val_loss: 2.8999\n",
            "Epoch 28/50\n",
            "8960/8975 [============================>.] - ETA: 0s - loss: 1.9901Epoch 00028: early stopping\n"
          ],
          "name": "stdout"
        }
      ]
    },
    {
      "cell_type": "code",
      "metadata": {
        "id": "rQt8rAdI2NRp",
        "colab_type": "code",
        "colab": {
          "base_uri": "https://localhost:8080/",
          "height": 265
        },
        "outputId": "4678b489-c862-41dc-870c-5dc214bb755d"
      },
      "source": [
        "from matplotlib import pyplot\n",
        "pyplot.plot(history.history['loss'], label='train')\n",
        "pyplot.plot(history.history['val_loss'], label='test')\n",
        "pyplot.legend()\n",
        "pyplot.show()"
      ],
      "execution_count": 114,
      "outputs": [
        {
          "output_type": "display_data",
          "data": {
            "image/png": "[encoded data removed]",
            "text/plain": [
              "<Figure size 432x288 with 1 Axes>"
            ]
          },
          "metadata": {
            "tags": []
          }
        }
      ]
    },
    {
      "cell_type": "code",
      "metadata": {
        "id": "aGOCOdZd255A",
        "colab_type": "code",
        "colab": {}
      },
      "source": [
        "history.model.save('model.h5')"
      ],
      "execution_count": 0,
      "outputs": []
    },
    {
      "cell_type": "code",
      "metadata": {
        "id": "OeS5Mexl5Uru",
        "colab_type": "code",
        "colab": {}
      },
      "source": [
        "from numpy import loadtxt\n",
        "from keras.models import load_model\n"
      ],
      "execution_count": 0,
      "outputs": []
    },
    {
      "cell_type": "code",
      "metadata": {
        "id": "qpL_rA6u4w7C",
        "colab_type": "code",
        "colab": {}
      },
      "source": [
        "reverse_target_word_index=y_tokenizer.index_word\n",
        "reverse_source_word_index=x_tokenizer.index_word\n",
        "target_word_index=y_tokenizer.word_index"
      ],
      "execution_count": 0,
      "outputs": []
    },
    {
      "cell_type": "code",
      "metadata": {
        "id": "aMt3dgBD443a",
        "colab_type": "code",
        "colab": {}
      },
      "source": [
        "# Encode the input sequence to get the feature vector\n",
        "encoder_model = Model(inputs=encoder_inputs,outputs=[encoder_outputs, state_h, state_c])\n",
        "\n",
        "# Decoder setup\n",
        "# Below tensors will hold the states of the previous time step\n",
        "decoder_state_input_h = Input(shape=(latent_dim,))\n",
        "decoder_state_input_c = Input(shape=(latent_dim,))\n",
        "decoder_hidden_state_input = Input(shape=(max_text_len,latent_dim))\n",
        "\n",
        "# Get the embeddings of the decoder sequence\n",
        "dec_emb2= dec_emb_layer(decoder_inputs) \n",
        "# To predict the next word in the sequence, set the initial states to the states from the previous time step\n",
        "decoder_outputs2, state_h2, state_c2 = decoder_lstm(dec_emb2, initial_state=[decoder_state_input_h, decoder_state_input_c])\n",
        "\n",
        "#attention inference\n",
        "attn_out_inf, attn_states_inf = attn_layer([decoder_hidden_state_input, decoder_outputs2])\n",
        "decoder_inf_concat = Concatenate(axis=-1, name='concat')([decoder_outputs2, attn_out_inf])\n",
        "\n",
        "# A dense softmax layer to generate prob dist. over the target vocabulary\n",
        "decoder_outputs2 = decoder_dense(decoder_inf_concat) \n",
        "\n",
        "# Final decoder model\n",
        "decoder_model = Model(\n",
        "    [decoder_inputs] + [decoder_hidden_state_input,decoder_state_input_h, decoder_state_input_c],\n",
        "    [decoder_outputs2] + [state_h2, state_c2])"
      ],
      "execution_count": 0,
      "outputs": []
    },
    {
      "cell_type": "code",
      "metadata": {
        "id": "4NxIOF1u59gO",
        "colab_type": "code",
        "colab": {}
      },
      "source": [
        "def decode_sequence(input_seq):\n",
        "    # Encode the input as state vectors.\n",
        "    e_out, e_h, e_c = encoder_model.predict(input_seq)\n",
        "    \n",
        "    # Generate empty target sequence of length 1.\n",
        "    target_seq = np.zeros((1,1))\n",
        "    \n",
        "    # Populate the first word of target sequence with the start word.\n",
        "    target_seq[0, 0] = target_word_index['sostok']\n",
        "\n",
        "    stop_condition = False\n",
        "    decoded_sentence = ''\n",
        "    while not stop_condition:\n",
        "      \n",
        "        output_tokens, h, c = decoder_model.predict([target_seq] + [e_out, e_h, e_c])\n",
        "\n",
        "        # Sample a token\n",
        "        sampled_token_index = np.argmax(output_tokens[0, -1, :])\n",
        "        sampled_token = reverse_target_word_index[sampled_token_index]\n",
        "        \n",
        "        if(sampled_token!='eostok'):\n",
        "            decoded_sentence += ' '+sampled_token\n",
        "\n",
        "        # Exit condition: either hit max length or find stop word.\n",
        "        if (sampled_token == 'eostok'  or len(decoded_sentence.split()) >= (max_summary_len-1)):\n",
        "            stop_condition = True\n",
        "\n",
        "        # Update the target sequence (of length 1).\n",
        "        target_seq = np.zeros((1,1))\n",
        "        target_seq[0, 0] = sampled_token_index\n",
        "\n",
        "        # Update internal states\n",
        "        e_h, e_c = h, c\n",
        "\n",
        "    return decoded_sentence"
      ],
      "execution_count": 0,
      "outputs": []
    },
    {
      "cell_type": "code",
      "metadata": {
        "id": "a3K5GnTw6IcX",
        "colab_type": "code",
        "colab": {}
      },
      "source": [
        "def seq2summary(input_seq):\n",
        "    newString=''\n",
        "    for i in input_seq:\n",
        "        if((i!=0 and i!=target_word_index['sostok']) and i!=target_word_index['eostok']):\n",
        "            newString=newString+reverse_target_word_index[i]+' '\n",
        "    return newString\n",
        "\n",
        "def seq2text(input_seq):\n",
        "    newString=''\n",
        "    for i in input_seq:\n",
        "        if(i!=0):\n",
        "            newString=newString+reverse_source_word_index[i]+' '\n",
        "    return newString"
      ],
      "execution_count": 0,
      "outputs": []
    },
    {
      "cell_type": "code",
      "metadata": {
        "id": "AvjOGtAn6RMM",
        "colab_type": "code",
        "colab": {
          "base_uri": "https://localhost:8080/",
          "height": 1000
        },
        "outputId": "e39aabed-1908-4739-c3fc-39b496855453"
      },
      "source": [
        "for i in range(5,100):\n",
        "    print(\"Review:\",seq2text(x_tr[i]))\n",
        "    print(\"Original summary:\",seq2summary(y_tr[i]))\n",
        "    print(\"Predicted summary:\",decode_sequence(x_tr[i].reshape(1,max_text_len)))\n",
        "    print(\"\\n\")"
      ],
      "execution_count": 135,
      "outputs": [
        {
          "output_type": "stream",
          "text": [
            "Review: us president george bush tuesday endorsed federal reserve rescue loan troubled insurance giant american insurance group move would promote stability financial markets white house said statement \n",
            "Original summary: bush backs fed rescue of troubled insurer aig \n",
            "Predicted summary:  bush vows to save rescue rescue deal\n",
            "\n",
            "\n",
            "Review: french court tuesday convicted iranian murdering former iranian prime minister shahpur bakhtiar sentenced life prison trial tehran government dock \n",
            "Original summary: french court iranian for life in bakhtiar killing \n",
            "Predicted summary:  spanish court jails mother of life sentence for killing\n",
            "\n",
            "\n",
            "Review: alitalia trade unions warned wednesday less hours accept deal rescue plan ailing airline ansa news agency reported \n",
            "Original summary: alitalia unions given deadline to accept takeover proposals \n",
            "Predicted summary:  german leaders says key phase of financial crisis\n",
            "\n",
            "\n",
            "Review: trial opened ivory coast monday people charged involvement toxic waste scandal killed ivorians poisoned thousands \n",
            "Original summary: pollution trial opens in ivory coast \n",
            "Predicted summary:  pollution police opens in ivory coast\n",
            "\n",
            "\n",
            "Review: dairy producers across china tested following scandal chemical placed milk powder killed three babies sickened thousands authorities said wednesday \n",
            "Original summary: china to test all dairy for chemical \n",
            "Predicted summary:  china pulls top candy off shelves as milk scandal deepens\n",
            "\n",
            "\n",
            "Review: bolivian president evo morales wednesday declared us ambassador la paz non accusing envoy encouraging country promoting separatism \n",
            "Original summary: bolivia president orders us envoy \n",
            "Predicted summary:  pakistan president to discuss military\n",
            "\n",
            "\n",
            "Review: us military said wednesday three us soldiers charged murder committed unspecified incident near baghdad march april \n",
            "Original summary: us military charges three soldiers with iraq murder \n",
            "Predicted summary:  us condemns pakistan\n",
            "\n",
            "\n",
            "Review: un security council monday extended one year mandate nato led multinational forces battling extremists afghanistan voiced concern high number civilian casualties \n",
            "Original summary: un extends afghan force mandate concerned over casualties \n",
            "Predicted summary:  un extends force to discuss border\n",
            "\n",
            "\n",
            "Review: little master indian cricket sworn bombay thursday \n",
            "Original summary: sworn in as of bombay \n",
            "Predicted summary:  in\n",
            "\n",
            "\n",
            "Review: hundreds furious passengers qe ocean liner late thursday leaking broken made week long york voyage far dream cruise \n",
            "Original summary: qe passengers make atlantic \n",
            "Predicted summary:  aids\n",
            "\n",
            "\n",
            "Review: taipei bourse monday jumped across board reaction ruling kuomintang party winning powerful position taiwan province governor dealers said \n",
            "Original summary: taipei shares go up sharply after elections \n",
            "Predicted summary:  new zealand government sets november\n",
            "\n",
            "\n",
            "Review: expects global demand computers information technology products company said statement tuesday \n",
            "Original summary: sees global it demand \n",
            "Predicted summary:  us plans to sell\n",
            "\n",
            "\n",
            "Review: future european union discussed eu leaders dinner friday essen summit according letter invitation sent german chancellor helmut kohl \n",
            "Original summary: kohl plans debate on future of europe \n",
            "Predicted summary:  eu ministers to visit nuclear mission\n",
            "\n",
            "\n",
            "Review: thieves stole priceless spanish master francisco de goya temporary exhibition colombia museum spokesman said friday \n",
            "Original summary: thieves from colombia museum \n",
            "Predicted summary:  modahl drugs hearing\n",
            "\n",
            "\n",
            "Review: india tata motors insisted thursday would stick planned schedule high profile rollout world cheapest car despite months protests land dispute \n",
            "Original summary: india tata vows nano car on schedule \n",
            "Predicted summary:  india tata vows to keep car nano nano car\n",
            "\n",
            "\n",
            "Review: israeli prime minister yitzhak rabin arrived wednesday four day official visit south korea first spawned middle east peace accord israel palestinians \n",
            "Original summary: israeli prime minister arrives in south korea \n",
            "Predicted summary:  peres to meet in israel\n",
            "\n",
            "\n",
            "Review: israel imposed tight security west bank town deploying hundreds policemen soldiers prevent attacks christmas festivities police said friday \n",
            "Original summary: israel tightens security in for christmas \n",
            "Predicted summary:  israel to be up on palestinian\n",
            "\n",
            "\n",
            "Review: russian president boris yeltsin underwent minor nasal surgery unable work week presidency said communique saturday \n",
            "Original summary: yeltsin undergoes surgery \n",
            "Predicted summary:  yeltsin undergoes surgery\n",
            "\n",
            "\n",
            "Review: pope benedict xvi told french jewish leaders friday anti anti christian began four day visit catholic nation \n",
            "Original summary: anti is anti christian says pope \n",
            "Predicted summary:  pope begins visit to france\n",
            "\n",
            "\n",
            "Review: exports soared percent first months account nearly one third china overseas sales sector output grew slightly china daily said friday \n",
            "Original summary: chinese exports soar output up \n",
            "Predicted summary:  hong kong gold output rises to pct in august\n",
            "\n",
            "\n",
            "Review: two freight trains collided rural area wednesday killing one person injuring unknown number others officials said \n",
            "Original summary: one dead in train collision \n",
            "Predicted summary:  at least dead in new zealand boat accident\n",
            "\n",
            "\n",
            "Review: small british tour operator holidays turkey trading days collapse another group left holidaymakers stranded regulators said sunday \n",
            "Original summary: another british travel company goes bust \n",
            "Predicted summary:  to build hub\n",
            "\n",
            "\n",
            "Review: european central bank lrb ecb rrb pumped billion euros lrb billion dollars rrb financial markets thursday latest attempt provide desperately needed liquidity \n",
            "Original summary: ecb pumps billion euros into market \n",
            "Predicted summary:  ecb injects billion dollars into markets\n",
            "\n",
            "\n",
            "Review: afghanistan president hamid karzai much sought un general assembly nato leaders meet sidelines fragile security situation nation \n",
            "Original summary: afghan leader much sought after at un meeting \n",
            "Predicted summary:  afghan president to visit talks with un\n",
            "\n",
            "\n",
            "Review: plo leader yasser arafat sunday accused israel delaying palestinian elections west bank gaza strip stressed negotiations issue would continue \n",
            "Original summary: arafat accuses israel of delaying \n",
            "Predicted summary:  arafat peres rabin nobel prize\n",
            "\n",
            "\n",
            "Review: gulf mexico hurricane ike churned thursday hub us petroleum industry quarter us crude oil produced percent refinery capacity \n",
            "Original summary: gulf of mexico hub of us oil industry \n",
            "Predicted summary:  us trade says bln dlr package in august\n",
            "\n",
            "\n",
            "Review: nigerian football player omar expelled egypt sunday testing positive hiv virus \n",
            "Original summary: nigerian star banned from egypt after aids test \n",
            "Predicted summary:  woman find in\n",
            "\n",
            "\n",
            "Review: egyptian stock exchange continued fall sharply tuesday taking losses key stocks percent past two two trading sessions \n",
            "Original summary: egypt key stocks drop percent in two days \n",
            "Predicted summary:  london stocks up percent on day\n",
            "\n",
            "\n",
            "Review: north korean army officials met us army representatives sunday silent fate two crew members us helicopter missing north un command said \n",
            "Original summary: nkorean army meets us on missing helicopter on pilots \n",
            "Predicted summary:  us prosecutors launch safety inquiry on aeroflot\n",
            "\n",
            "\n",
            "Review: roadside bomb exploded tuesday seriously wounding israeli soldier patrol went past security zone jewish state southern lebanon military officials said \n",
            "Original summary: israeli soldier hurt in south lebanon blast \n",
            "Predicted summary:  two killed in baghdad bomb blast\n",
            "\n",
            "\n",
            "Review: african national congress lrb anc rrb wednesday endorsed far reaching policy resolutions aimed last apartheid south african society \n",
            "Original summary: anc endorses far policies issues \n",
            "Predicted summary:  south africa anc picks successor\n",
            "\n",
            "\n",
            "Review: philippine share prices closed percent lower friday amid renewed inflation local currency well credit problems united states dealers said \n",
            "Original summary: philippine shares close percent lower \n",
            "Predicted summary:  chinese shares close up pct\n",
            "\n",
            "\n",
            "Review: russian legislators thursday attacked president boris yeltsin threatening military intervention chechnya called new elections restore order breakaway republic \n",
            "Original summary: russian lawmakers attack yeltsin over chechnya \n",
            "Predicted summary:  russian troops in western georgia\n",
            "\n",
            "\n",
            "Review: us commerce secretary brown leaves monday attend conference northern ireland aimed boosting investment province following peace agreement \n",
            "Original summary: brown to make investment trip to northern ireland \n",
            "Predicted summary:  rice signs gatt agreement on gatt\n",
            "\n",
            "\n",
            "Review: cautious european leaders dealing situation largely control guarded comments confront global financial turmoil analysts said thursday \n",
            "Original summary: european leaders in as markets \n",
            "Predicted summary:  eu commission to take on financial crisis\n",
            "\n",
            "\n",
            "Review: united states five powers tuesday called plans high level talks week debate sanctions iran russia complained us attempts punish \n",
            "Original summary: top talks on iran nuclear program are called off \n",
            "Predicted summary:  us leaders to head on nuclear nuclear deal\n",
            "\n",
            "\n",
            "Review: south korea inflation rate slowed slightly august oil commodity prices showed signs national statistical office said monday \n",
            "Original summary: skorea inflation rate slightly in august \n",
            "Predicted summary:  french economy falls to percent in august\n",
            "\n",
            "\n",
            "Review: kenya friday said ukrainian ship seized pirates somalia carrying military hardware including tanks destined armed forces \n",
            "Original summary: kenya confirms hijacked ukrainian ship was \n",
            "Predicted summary:  french prosecutors bombing after islamabad bombing\n",
            "\n",
            "\n",
            "Review: european union leaders put bloc relations moscow emergency summit monday although sanctions russia cards \n",
            "Original summary: eu to relations with russia at emergency summit \n",
            "Predicted summary:  eu to send observers to prevent nato mission\n",
            "\n",
            "\n",
            "Review: nato denied sunday french soldiers ambushed better armed taliban fighters afghanistan last month expressed concern increasingly sophisticated cross border attacks \n",
            "Original summary: nato denies french troops were ill \n",
            "Predicted summary:  nato denies afghan troops were ill\n",
            "\n",
            "\n",
            "Review: preliminary hearing decide whether commit former italian prime minister trial alleged links mafia postponed january legal sources said sunday \n",
            "Original summary: hearing on mafia links put back to january \n",
            "Predicted summary:  former communists romp for corruption\n",
            "\n",
            "\n",
            "Review: israeli prime minister yitzhak rabin said sunday ready compromise plo question army redeployment west bank ahead palestinian elections \n",
            "Original summary: rabin ready for compromise over army redeployment \n",
            "Predicted summary:  israeli president visits talks with syria\n",
            "\n",
            "\n",
            "Review: president george bush vowed thursday administration would meet serious challenges facing markets amid global financial crisis \n",
            "Original summary: bush vows his team will meet challenges of financial crisis \n",
            "Predicted summary:  bush vows to meet as us rescue plan\n",
            "\n",
            "\n",
            "Review: serbia war crimes prosecution wednesday described disgrace three year sentence un court handed former bosnian muslim general earlier week news agency said \n",
            "Original summary: serb prosecution slams bosnian muslim general sentence \n",
            "Predicted summary:  nigerian militants for muslim muslim festival\n",
            "\n",
            "\n",
            "Review: nato chief jaap de hoop scheffer tuesday damage last month war georgia said country path nato membership wide open despite russian opposition \n",
            "Original summary: nato path wide open to georgia says alliance chief \n",
            "Predicted summary:  nato chief to visit georgian georgia\n",
            "\n",
            "\n",
            "Review: world leaders open annual un debate tuesday top issues like crisis georgia iran nuclear ambitions rights abuses darfur overshadowed global financial crisis \n",
            "Original summary: global financial crisis hangs over un general assembly debate \n",
            "Predicted summary:  eu solana optimistic on georgia\n",
            "\n",
            "\n",
            "Review: president manuel friday postponed reception credentials new us ambassador show solidarity bolivia growing diplomatic crisis \n",
            "Original summary: postpones us envoy taking up post in bolivia solidarity \n",
            "Predicted summary:  clinton names russian interference on bolivia unrest\n",
            "\n",
            "\n",
            "Review: china contaminated milk crisis latest series dark wang food else country deadly \n",
            "Original summary: milk crisis has china middle class feeling angry \n",
            "Predicted summary:  china toxic milk sickens as scare spreads\n",
            "\n",
            "\n",
            "Review: flight forced return dublin airport thursday plane hit runway took london airport authority spokeswoman said \n",
            "Original summary: plane in dublin airport take off incident \n",
            "Predicted summary:  swiss adventurer in swiss plane\n",
            "\n",
            "\n",
            "Review: john mccain white house campaign monday lashed media declared venerable new york times percent behind democratic hopeful barack obama \n",
            "Original summary: mccain campaign savages new york times \n",
            "Predicted summary:  bush says economic rescue of wall st\n",
            "\n",
            "\n",
            "Review: yemen accused saudi arabia late wednesday setting observation posts building roads deep territory close disputed border area two countries \n",
            "Original summary: yemen accuses saudi arabia of violating its territory \n",
            "Predicted summary:  saudi arabia to visit saudi saudi militants\n",
            "\n",
            "\n",
            "Review: white house monday possible tax cut middle class right pre republican congress trying mend shattered base support \n",
            "Original summary: white house on middle class tax cut \n",
            "Predicted summary:  obama mccain mccain mccain over financial crisis\n",
            "\n",
            "\n",
            "Review: iraqi opposition warned foreign companies tuesday making deals baghdad authorities saying iraqi people would respect accords \n",
            "Original summary: opposition warns foreign companies against deals with baghdad \n",
            "Predicted summary:  russia venezuela to help un aid to help\n",
            "\n",
            "\n",
            "Review: three indian ministers facing allegations corruption resigned beleaguered prime minister narasimha rao cabinet thursday officials said \n",
            "Original summary: three indian ministers resign \n",
            "Predicted summary:  berlusconi in new parliament\n",
            "\n",
            "\n",
            "Review: former us president jimmy carter took center stage another international crisis wednesday called use diplomatic skills negotiate end bosnian conflict \n",
            "Original summary: carter shuttle \n",
            "Predicted summary:  carter to present oic rights\n",
            "\n",
            "\n",
            "Review: german foreign minister klaus kinkel acting president european union council ministers blasted israelis calls eu weekly magazine says monday issue \n",
            "Original summary: german foreign minister slams israeli for eu \n",
            "Predicted summary:  german fm to head to zimbabwe\n",
            "\n",
            "\n",
            "Review: leader breakaway chechnya friday refused open top level negotiations moscow unless russian troops first withdrawn tiny caucasus republic \n",
            "Original summary: dudayev conditions peace talks on russian withdrawal \n",
            "Predicted summary:  russian president to discuss chechnya\n",
            "\n",
            "\n",
            "Review: bangladesh airline set buy two soon passengers domestic regional morning sun reported sunday \n",
            "Original summary: bangladesh airline to buy two soon \n",
            "Predicted summary:  to buy\n",
            "\n",
            "\n",
            "Review: red cross convoy carrying medical aid arrived chechen capital grozny saturday spokesman organization said \n",
            "Original summary: red cross convoy arrives in grozny \n",
            "Predicted summary:  israeli army officer assassinated\n",
            "\n",
            "\n",
            "Review: germany top trade union said tuesday wants eight percent pay hike million workers key metal electronics industries biggest increase sought year \n",
            "Original summary: top union wants pct wage hike sets stage for tough talks \n",
            "Predicted summary:  skorea to build alert in brazil\n",
            "\n",
            "\n",
            "Review: danish voters want keep european union maastricht treaty closer political economic ties opinion poll published copenhagen friday showed \n",
            "Original summary: danish voters back eu treaty \n",
            "Predicted summary:  eu finance chiefs rule out stimulus to\n",
            "\n",
            "\n",
            "Review: chinese share prices fell percent midday wednesday led lower banks amid unabated concerns impact us financial turmoil chinese economy dealers said \n",
            "Original summary: chinese shares down percent at midday \n",
            "Predicted summary:  chinese shares close up pct\n",
            "\n",
            "\n",
            "Review: french presidential hopeful jacques chirac met thursday chancellor helmut kohl wants put franco german work developing european unity elected \n",
            "Original summary: chirac assures kohl he wants german on europe \n",
            "Predicted summary:  delors says israel has will meet on zimbabwe\n",
            "\n",
            "\n",
            "Review: mexico state run oil company said monday production fell percent first eight months year compared period \n",
            "Original summary: mexico oil production drops percent \n",
            "Predicted summary:  indonesia to sell production in november\n",
            "\n",
            "\n",
            "Review: defend australian open tennis crown next month despite plagued back problem tournament director paul said monday \n",
            "Original summary: to defend her australian open title \n",
            "Predicted summary:  tomba in\n",
            "\n",
            "\n",
            "Review: thai share prices closed percent higher wednesday investors welcomed news tycoon warren buffett five billion dollar investment goldman sachs said \n",
            "Original summary: thai share prices close percent higher \n",
            "Predicted summary:  thai share prices close percent lower\n",
            "\n",
            "\n",
            "Review: chinese president hu jintao thursday declared nation third manned space launch success hailing mission include first ever space walk state media said \n",
            "Original summary: chinese president declares space flight launch success \n",
            "Predicted summary:  china space riskiest space mission yet\n",
            "\n",
            "\n",
            "Review: five people died many others injured mostly overcome smoke blaze swept tower block eastern france early sunday police said \n",
            "Original summary: block fire kills five \n",
            "Predicted summary:  fire rocks channel tunnel in finnish school floods\n",
            "\n",
            "\n",
            "Review: bangladeshi authorities said thursday arrested man suspicion writing note bomb board flight traveling \n",
            "Original summary: bangladeshi man held over airplane bomb threat says official \n",
            "Predicted summary:  pollution president opens in ivory coast\n",
            "\n",
            "\n",
            "Review: oil prices dropped three dollars asian trade tuesday collapse us investment bank lehman brothers accentuated fears global economic health analysts said \n",
            "Original summary: oil falls more than three dollars in asia \n",
            "Predicted summary:  oil prices slide on demand fears\n",
            "\n",
            "\n",
            "Review: european commission pushed million dollar bank loan plo chief yasser arafat cash strapped self rule authority chief negotiator nabil shaath said sunday \n",
            "Original summary: european union grants plo million dollar loan for self rule \n",
            "Predicted summary:  eu to meet eu ministers on eu enlargement\n",
            "\n",
            "\n",
            "Review: centre left parties nation european parliament planning single bloc wide campaign next year elections eu chamber poland social democrats announced tuesday \n",
            "Original summary: europe socialists plan joint campaign for eu election \n",
            "Predicted summary:  malaysian pm hints could step down earlier than planned\n",
            "\n",
            "\n",
            "Review: us authorities bolstered arsenal friday battle financial market storm readying massive rescue plan worth hundreds billions dollars unveiling emergency actions \n",
            "Original summary: us bolsters arsenal to battle financial crisis \n",
            "Predicted summary:  us lawmakers negotiate massive bailout package\n",
            "\n",
            "\n",
            "Review: russia expressed regret wednesday could present nato plan sweeping new security pact mulling whether make flagship project public another forum \n",
            "Original summary: russia regrets delay of security pact at nato \n",
            "Predicted summary:  nato chief to visit nato mission on nato\n",
            "\n",
            "\n",
            "Review: dozens people demonstrated monday athens favor gay unions ahead trial set week prosecutor seeking greece first two unions declared \n",
            "Original summary: greek rights protest ahead of gay union trial \n",
            "Predicted summary:  in simpson trial in\n",
            "\n",
            "\n",
            "Review: solidere company created rebuild war shattered center beirut selected eight european asian firms offer million dollar project protect city \n",
            "Original summary: eight european asian firms for beirut project \n",
            "Predicted summary:  delors says\n",
            "\n",
            "\n",
            "Review: kenya monday welcomed signing power sharing agreement zimbabwe urged leaders stick accord ended months political crisis \n",
            "Original summary: kenya urges zimbabwe leaders to to accord \n",
            "Predicted summary:  zimbabwe leaders to discuss nuclear deal\n",
            "\n",
            "\n",
            "Review: cholera outbreak harare suburb killed least people zimbabwe health minister said thursday \n",
            "Original summary: zimbabwe cholera kills \n",
            "Predicted summary:  explosion kills of\n",
            "\n",
            "\n",
            "Review: central banks pumped tens billions dollars markets monday prevent collapse us bank lehman brothers triggering global system failure officials called calm \n",
            "Original summary: central banks billions to steady markets \n",
            "Predicted summary:  dollar as house banks on us rescue plan\n",
            "\n",
            "\n",
            "Review: russia announced closing borders georgia azerbaijan midnight tuesday ensure security military crisis breakaway caucasus republic chechnya \n",
            "Original summary: russia closes off southern caucasus border \n",
            "Predicted summary:  russia says nato to pull nato mission\n",
            "\n",
            "\n",
            "Review: french insurance giant leading indian mobile operator said monday target india mutual fund venture aims manage billion dollars assets \n",
            "Original summary: france mutual fund targets india \n",
            "Predicted summary:  siemens mutual fund\n",
            "\n",
            "\n",
            "Review: england run victory australian capital territory one day game sunday \n",
            "Original summary: no for england \n",
            "Predicted summary:  england vs one day cricket scoreboard\n",
            "\n",
            "\n",
            "Review: pakistan government friday described indian press report saying organised spy ring passed indian space industry secrets \n",
            "Original summary: pakistan denies hand in indian spy scandal \n",
            "Predicted summary:  pakistan president to be shut on aids\n",
            "\n",
            "\n",
            "Review: three grenade explosions rocked northern bujumbura early saturday national radio reported despite curfew stepped security presence \n",
            "Original summary: new grenade explosions rock bujumbura \n",
            "Predicted summary:  chinese tourist in\n",
            "\n",
            "\n",
            "Review: german automaker daimler said wednesday wanted sell remaining percent interest former us subsidiary chrysler private equity firm last year acquired majority stake chrysler daimler \n",
            "Original summary: wants to sell remaining chrysler stake to \n",
            "Predicted summary:  french economy deficit rises to percent\n",
            "\n",
            "\n",
            "Review: iberia airline decided begin offering assets sale sources company said wednesday management prepared meet unions new crisis caused deadlock pilots \n",
            "Original summary: iberia begins sales meets unions on new crisis \n",
            "Predicted summary:  british pm says he will meet on zimbabwe\n",
            "\n",
            "\n",
            "Review: security services briefly shut newly opened terminal new york airport monday appeared turned \n",
            "Original summary: scare shuts down ny air terminal \n",
            "Predicted summary:  to be in\n",
            "\n",
            "\n",
            "Review: trade embargo communist cuba united states approved million dollars farm sales havana including food construction aid offer hurricanes gustav ike devastated cuba crops leaving potential food crisis us diplomats said \n",
            "Original summary: us gives green light to food sales to hurricane hit cuba \n",
            "Predicted summary:  eu commission to food food food food food food food food\n",
            "\n",
            "\n",
            "Review: us stocks early gains wednesday market mulled struggling investment giant lehman brothers plans sell assets shore finances \n",
            "Original summary: us stocks gains after lehman unveils assets sale \n",
            "Predicted summary:  european stocks close sharply lower\n",
            "\n",
            "\n",
            "Review: milan stock market came wednesday market worried future berlusconi government wake premier corruption traders said close \n",
            "Original summary: milan stocks plunge percent \n",
            "Predicted summary:  london stocks up percent on day\n",
            "\n",
            "\n",
            "Review: dollar moved thursday highest level three months german mark london foreign exchange market wake us statistics continued strong us economic recovery traders said late afternoon \n",
            "Original summary: dollar at three month high against mark on us figures \n",
            "Predicted summary:  dollar falls in asia on day fears\n",
            "\n",
            "\n",
            "Review: asia pacific region expected become biggest aviation market world within decade senior official us airplane maker boeing said tuesday \n",
            "Original summary: boeing sees asia becoming biggest market \n",
            "Predicted summary:  us reserve deficit rises to bln dlrs in july\n",
            "\n",
            "\n",
            "Review: negotiations managers spanish state owned iberia airline pilots broke pay cuts early thursday without agreement plan rescue company iberia president javier said \n",
            "Original summary: pilots block iberia rescue minister guarantees \n",
            "Predicted summary:  iberia rivals clinch us rescue deal\n",
            "\n",
            "\n",
            "Review: croatian national shot killed wife another croatian man friday munich metro shot police said \n",
            "Original summary: croat kills wife man then attempts suicide in \n",
            "Predicted summary:  two killed in clashes in south lebanon\n",
            "\n",
            "\n",
            "Review: shin south korea elected monday new director western pacific region world health organisation un body announced \n",
            "Original summary: south korean elected who regional director \n",
            "Predicted summary:  ex government to visit\n",
            "\n",
            "\n"
          ],
          "name": "stdout"
        }
      ]
    },
    {
      "cell_type": "code",
      "metadata": {
        "id": "56edtatk68ex",
        "colab_type": "code",
        "colab": {}
      },
      "source": [
        "result = pd.DataFrame({'Article': [], 'Actual Summary': [], 'Pridicted Summary': []})\n",
        "for i in range(5,100):\n",
        "    result = result.append({'Article': seq2text(x_tr[i]), 'Actual Summary': seq2summary(y_tr[i]), 'Pridicted Summary': decode_sequence(x_tr[i].reshape(1,max_text_len))}, ignore_index=True)"
      ],
      "execution_count": 0,
      "outputs": []
    },
    {
      "cell_type": "code",
      "metadata": {
        "id": "OOER0z7D82bX",
        "colab_type": "code",
        "colab": {}
      },
      "source": [
        "result.to_csv(\"Result.csv\", index=False)"
      ],
      "execution_count": 0,
      "outputs": []
    }
  ]
}